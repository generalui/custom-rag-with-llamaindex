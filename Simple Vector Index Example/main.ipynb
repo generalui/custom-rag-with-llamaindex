{
  "cells": [
    {
      "cell_type": "markdown",
      "metadata": {
        "id": "V-11QiOdGqQD"
      },
      "source": [
        "## Import Libraries\n"
      ]
    },
    {
      "cell_type": "code",
      "execution_count": 2,
      "metadata": {
        "id": "oh3a-FWm9HWI"
      },
      "outputs": [],
      "source": [
        "import os\n",
        "from llama_index.core import (\n",
        "    VectorStoreIndex,\n",
        "    StorageContext,\n",
        "    load_index_from_storage\n",
        ")\n",
        "from llama_index.embeddings.huggingface import HuggingFaceEmbedding\n",
        "from llama_index.llms.groq import Groq\n",
        "from dotenv import load_dotenv\n",
        "load_dotenv()\n",
        "GROQ_API_KEY = os.getenv(\"GROQ_API_KEY\")    "
      ]
    },
    {
      "cell_type": "markdown",
      "metadata": {
        "id": "SUWNBRuf-cUl"
      },
      "source": [
        "## Data Ingestion"
      ]
    },
    {
      "cell_type": "code",
      "execution_count": 3,
      "metadata": {
        "id": "VgWnsaoe9ssc"
      },
      "outputs": [],
      "source": [
        "import nest_asyncio\n",
        "\n",
        "# LlamaParse is async-first, so we need to run this line because we are working on a notebook\n",
        "nest_asyncio.apply()"
      ]
    },
    {
      "cell_type": "code",
      "execution_count": 5,
      "metadata": {
        "colab": {
          "base_uri": "https://localhost:8080/"
        },
        "id": "loYTxefM-_OT",
        "outputId": "015c214e-4649-4a74-b2df-9578a4245b05"
      },
      "outputs": [
        {
          "name": "stdout",
          "output_type": "stream",
          "text": [
            "Started parsing the file under job_id 9e94fe7e-75cf-4ba4-aa72-767e60e20bf5\n"
          ]
        }
      ],
      "source": [
        "from llama_parse import LlamaParse\n",
        "documents = LlamaParse(result_type=\"markdown\").load_data(\"./data/1_page_2025_Tucson_Hybrid_user_manual.pdf\")"
      ]
    },
    {
      "cell_type": "markdown",
      "metadata": {
        "id": "WY4xeO7HIECq"
      },
      "source": [
        "# Setting up VectorStoreIndex"
      ]
    },
    {
      "cell_type": "markdown",
      "metadata": {
        "id": "NJDZK8yJITi6"
      },
      "source": [
        "## LLM and Embedding Model"
      ]
    },
    {
      "cell_type": "code",
      "execution_count": 6,
      "metadata": {
        "id": "VJK77gFEIW-5"
      },
      "outputs": [],
      "source": [
        "from llama_index.core import Settings\n",
        "\n",
        "embed_model = HuggingFaceEmbedding(model_name=\"sentence-transformers/all-MiniLM-L6-v2\")\n",
        "llm = Groq(model=\"llama-3.2-3b-preview\", api_key=GROQ_API_KEY)\n",
        "\n",
        "Settings.llm = llm\n",
        "Settings.embed_model = embed_model"
      ]
    },
    {
      "cell_type": "markdown",
      "metadata": {
        "id": "yumEw5CfNHHR"
      },
      "source": [
        "## Initialize Vector Store Index"
      ]
    },
    {
      "cell_type": "code",
      "execution_count": 7,
      "metadata": {
        "colab": {
          "base_uri": "https://localhost:8080/",
          "height": 81,
          "referenced_widgets": [
            "71fcd8f3ebd94372ac33aadbb72168e3",
            "f19d5ccd448a4c0d8aacde455ec6ad97",
            "10e7f18e1d1347b7bc3025084b4ac9c2",
            "fb30c9939c75464994dd5311f21b2690",
            "0c634f86f4b74d2f961037971f7315be",
            "7004dd9bf9af4ee58279ba344065d345",
            "8e07134bd9484242b91882bf50c7cbe7",
            "0ac4c8e2fc9c4f5ab89522554a9bd8e1",
            "c84fc7e54f4b4655a0ac75a65412bdf1",
            "9f1e7ebf604d4d50b22f85446fcaa90a",
            "c2e83c754b3a41c590e9ecbb49c5ab1a",
            "4b1fb1410c9742d5bfc75e3a9019cf49",
            "6d1a142a7e8f452ebb109b76cccb8c62",
            "1b948fd347a842989409f4973d66a095",
            "d913b239f9184ee29a6e83ce90caa43b",
            "90a0204e2a894d7fb25819b56affbcc1",
            "dee2a31c7fbf4be797e705f629d3671a",
            "bea24605825348eab85a4b9463f0286e",
            "0b013feb94e34aca8a7f51fdf0759ced",
            "21aea6ddd42d43eea7890acf72851e44",
            "d5c820740f0a4e41bbd0ef20b5c2a713",
            "2be8e241debb4807bcdb520baf1420d1"
          ]
        },
        "id": "--ayP--oNAhO",
        "outputId": "f00647ec-d336-4c06-b727-469c0865df06"
      },
      "outputs": [
        {
          "name": "stderr",
          "output_type": "stream",
          "text": [
            "Parsing nodes: 100%|██████████| 1/1 [00:00<00:00, 1162.50it/s]\n",
            "Generating embeddings: 100%|██████████| 1/1 [00:02<00:00,  2.67s/it]\n"
          ]
        }
      ],
      "source": [
        "vector_index = VectorStoreIndex.from_documents(documents, show_progress=True)"
      ]
    },
    {
      "cell_type": "markdown",
      "metadata": {
        "id": "lIkVmQeqS6rL"
      },
      "source": [
        "## RAG put into practice: Query engine"
      ]
    },
    {
      "cell_type": "code",
      "execution_count": 8,
      "metadata": {
        "id": "KtS5c8xvNTKu"
      },
      "outputs": [],
      "source": [
        "query_engine = vector_index.as_query_engine()\n",
        "\n",
        "res = query_engine.query(\"under what circumstances the navigation-based smart cruise control may not operate properly for the 2025 Tucson Hybrid?\")"
      ]
    },
    {
      "cell_type": "code",
      "execution_count": 9,
      "metadata": {
        "colab": {
          "base_uri": "https://localhost:8080/",
          "height": 400
        },
        "id": "oPBfjpjggJVc",
        "outputId": "2b595ea1-e81e-43f5-9461-a807c02a1551"
      },
      "outputs": [
        {
          "data": {
            "text/markdown": [
              "The navigation-based Smart Cruise Control may not operate properly for the 2025 Tucson Hybrid under the following circumstances:\n",
              "\n",
              "- The navigation is not working properly\n",
              "- Map information is not transmitted due to infotainment system's abnormal operation\n",
              "- Speed limit and road information in the navigation is not updated\n",
              "- The map information and the actual road is different because of real-time GPS data or map information error\n",
              "- The navigation searches for a route while driving\n",
              "- GPS signals are blocked in areas such as a tunnel\n",
              "- A road that divides into two or more roads and joins again\n",
              "- The driver goes off course from the route set in the navigation\n",
              "- The route to the destination is changed or cancelled by resetting the navigation\n",
              "- The vehicle enters a service station or rest area\n",
              "- Android Auto or Car Play is operating\n",
              "- The navigation cannot detect the current vehicle position (for example, elevated roads including overpass adjacent to general roads or nearby roads exist in a parallel way)\n",
              "- The navigation is being updated while driving\n",
              "- The navigation is being restarted while driving\n",
              "- The speed limit of some sections changes according to the road situations\n",
              "- Driving on a road under construction\n",
              "- Driving in lane-restricted driving situations\n",
              "- There is bad weather, such as heavy rain, heavy snow, etc.\n",
              "- Driving on a road that is sharply curved"
            ],
            "text/plain": [
              "<IPython.core.display.Markdown object>"
            ]
          },
          "metadata": {},
          "output_type": "display_data"
        }
      ],
      "source": [
        "from IPython.display import Markdown, display\n",
        "\n",
        "display(Markdown(res.response))"
      ]
    },
    {
      "cell_type": "markdown",
      "metadata": {
        "id": "a08bkIPPg87x"
      },
      "source": [
        "# Persist"
      ]
    },
    {
      "cell_type": "code",
      "execution_count": 10,
      "metadata": {
        "colab": {
          "base_uri": "https://localhost:8080/",
          "height": 400
        },
        "id": "BWGxzIKNhO83",
        "outputId": "d7b12683-0260-4c28-cfa5-9209b4ba8d75"
      },
      "outputs": [
        {
          "data": {
            "text/markdown": [
              "The navigation-based smart cruise control may not operate properly for the 2025 Tucson Hybrid under the following circumstances:\n",
              "\n",
              "- The navigation is not working properly\n",
              "- Map information is not transmitted due to infotainment system's abnormal operation\n",
              "- Speed limit and road information in the navigation is not updated\n",
              "- The map information and the actual road is different because of real-time GPS data or map information error\n",
              "- The navigation searches for a route while driving\n",
              "- GPS signals are blocked in areas such as a tunnel\n",
              "- A road that divides into two or more roads and joins again\n",
              "- The driver goes off course from the route set in the navigation\n",
              "- The route to the destination is changed or cancelled by resetting the navigation\n",
              "- The vehicle enters a service station or rest area\n",
              "- Android Auto or Car Play is operating\n",
              "- The navigation cannot detect the current vehicle position (for example, elevated roads including overpass adjacent to general roads or nearby roads exist in a parallel way)\n",
              "- The navigation is being updated while driving\n",
              "- The navigation is being restarted while driving\n",
              "- The speed limit of some sections changes according to the road situations\n",
              "- Driving on a road under construction\n",
              "- Driving in lane-restricted driving situations\n",
              "- There is bad weather, such as heavy rain, heavy snow, etc.\n",
              "- Driving on a road that is sharply curved"
            ],
            "text/plain": [
              "<IPython.core.display.Markdown object>"
            ]
          },
          "metadata": {},
          "output_type": "display_data"
        }
      ],
      "source": [
        "PERSIST_DIR = \"./storage\"\n",
        "\n",
        "if not os.path.exists(PERSIST_DIR):\n",
        "    documents = LlamaParse(result_type=\"markdown\").load_data(\"./2025_Tucson_Hybrid_user_manual.pdf\")\n",
        "    vector_index = VectorStoreIndex.from_documents(documents)\n",
        "\n",
        "    # Store Vector Index\n",
        "    vector_index.storage_context.persist(persist_dir=PERSIST_DIR)\n",
        "else:\n",
        "    # load the existing Vector Index\n",
        "    storage_context = StorageContext.from_defaults(persist_dir=PERSIST_DIR)\n",
        "    vector_index = load_index_from_storage(storage_context)\n",
        "\n",
        "query_engine = vector_index.as_query_engine()\n",
        "res = query_engine.query(\"under what circumstances the navigation-based smart cruise control may not operate properly for the 2025 Tucson Hybrid?\")\n",
        "\n",
        "display(Markdown(res.response))"
      ]
    }
  ],
  "metadata": {
    "colab": {
      "provenance": []
    },
    "kernelspec": {
      "display_name": ".venv",
      "language": "python",
      "name": "python3"
    },
    "language_info": {
      "codemirror_mode": {
        "name": "ipython",
        "version": 3
      },
      "file_extension": ".py",
      "mimetype": "text/x-python",
      "name": "python",
      "nbconvert_exporter": "python",
      "pygments_lexer": "ipython3",
      "version": "3.11.7"
    },
    "widgets": {
      "application/vnd.jupyter.widget-state+json": {
        "0ac4c8e2fc9c4f5ab89522554a9bd8e1": {
          "model_module": "@jupyter-widgets/base",
          "model_module_version": "1.2.0",
          "model_name": "LayoutModel",
          "state": {
            "_model_module": "@jupyter-widgets/base",
            "_model_module_version": "1.2.0",
            "_model_name": "LayoutModel",
            "_view_count": null,
            "_view_module": "@jupyter-widgets/base",
            "_view_module_version": "1.2.0",
            "_view_name": "LayoutView",
            "align_content": null,
            "align_items": null,
            "align_self": null,
            "border": null,
            "bottom": null,
            "display": null,
            "flex": null,
            "flex_flow": null,
            "grid_area": null,
            "grid_auto_columns": null,
            "grid_auto_flow": null,
            "grid_auto_rows": null,
            "grid_column": null,
            "grid_gap": null,
            "grid_row": null,
            "grid_template_areas": null,
            "grid_template_columns": null,
            "grid_template_rows": null,
            "height": null,
            "justify_content": null,
            "justify_items": null,
            "left": null,
            "margin": null,
            "max_height": null,
            "max_width": null,
            "min_height": null,
            "min_width": null,
            "object_fit": null,
            "object_position": null,
            "order": null,
            "overflow": null,
            "overflow_x": null,
            "overflow_y": null,
            "padding": null,
            "right": null,
            "top": null,
            "visibility": null,
            "width": null
          }
        },
        "0b013feb94e34aca8a7f51fdf0759ced": {
          "model_module": "@jupyter-widgets/base",
          "model_module_version": "1.2.0",
          "model_name": "LayoutModel",
          "state": {
            "_model_module": "@jupyter-widgets/base",
            "_model_module_version": "1.2.0",
            "_model_name": "LayoutModel",
            "_view_count": null,
            "_view_module": "@jupyter-widgets/base",
            "_view_module_version": "1.2.0",
            "_view_name": "LayoutView",
            "align_content": null,
            "align_items": null,
            "align_self": null,
            "border": null,
            "bottom": null,
            "display": null,
            "flex": null,
            "flex_flow": null,
            "grid_area": null,
            "grid_auto_columns": null,
            "grid_auto_flow": null,
            "grid_auto_rows": null,
            "grid_column": null,
            "grid_gap": null,
            "grid_row": null,
            "grid_template_areas": null,
            "grid_template_columns": null,
            "grid_template_rows": null,
            "height": null,
            "justify_content": null,
            "justify_items": null,
            "left": null,
            "margin": null,
            "max_height": null,
            "max_width": null,
            "min_height": null,
            "min_width": null,
            "object_fit": null,
            "object_position": null,
            "order": null,
            "overflow": null,
            "overflow_x": null,
            "overflow_y": null,
            "padding": null,
            "right": null,
            "top": null,
            "visibility": null,
            "width": null
          }
        },
        "0c634f86f4b74d2f961037971f7315be": {
          "model_module": "@jupyter-widgets/base",
          "model_module_version": "1.2.0",
          "model_name": "LayoutModel",
          "state": {
            "_model_module": "@jupyter-widgets/base",
            "_model_module_version": "1.2.0",
            "_model_name": "LayoutModel",
            "_view_count": null,
            "_view_module": "@jupyter-widgets/base",
            "_view_module_version": "1.2.0",
            "_view_name": "LayoutView",
            "align_content": null,
            "align_items": null,
            "align_self": null,
            "border": null,
            "bottom": null,
            "display": null,
            "flex": null,
            "flex_flow": null,
            "grid_area": null,
            "grid_auto_columns": null,
            "grid_auto_flow": null,
            "grid_auto_rows": null,
            "grid_column": null,
            "grid_gap": null,
            "grid_row": null,
            "grid_template_areas": null,
            "grid_template_columns": null,
            "grid_template_rows": null,
            "height": null,
            "justify_content": null,
            "justify_items": null,
            "left": null,
            "margin": null,
            "max_height": null,
            "max_width": null,
            "min_height": null,
            "min_width": null,
            "object_fit": null,
            "object_position": null,
            "order": null,
            "overflow": null,
            "overflow_x": null,
            "overflow_y": null,
            "padding": null,
            "right": null,
            "top": null,
            "visibility": null,
            "width": null
          }
        },
        "10e7f18e1d1347b7bc3025084b4ac9c2": {
          "model_module": "@jupyter-widgets/controls",
          "model_module_version": "1.5.0",
          "model_name": "FloatProgressModel",
          "state": {
            "_dom_classes": [],
            "_model_module": "@jupyter-widgets/controls",
            "_model_module_version": "1.5.0",
            "_model_name": "FloatProgressModel",
            "_view_count": null,
            "_view_module": "@jupyter-widgets/controls",
            "_view_module_version": "1.5.0",
            "_view_name": "ProgressView",
            "bar_style": "success",
            "description": "",
            "description_tooltip": null,
            "layout": "IPY_MODEL_0ac4c8e2fc9c4f5ab89522554a9bd8e1",
            "max": 672,
            "min": 0,
            "orientation": "horizontal",
            "style": "IPY_MODEL_c84fc7e54f4b4655a0ac75a65412bdf1",
            "value": 672
          }
        },
        "1b948fd347a842989409f4973d66a095": {
          "model_module": "@jupyter-widgets/controls",
          "model_module_version": "1.5.0",
          "model_name": "FloatProgressModel",
          "state": {
            "_dom_classes": [],
            "_model_module": "@jupyter-widgets/controls",
            "_model_module_version": "1.5.0",
            "_model_name": "FloatProgressModel",
            "_view_count": null,
            "_view_module": "@jupyter-widgets/controls",
            "_view_module_version": "1.5.0",
            "_view_name": "ProgressView",
            "bar_style": "success",
            "description": "",
            "description_tooltip": null,
            "layout": "IPY_MODEL_0b013feb94e34aca8a7f51fdf0759ced",
            "max": 672,
            "min": 0,
            "orientation": "horizontal",
            "style": "IPY_MODEL_21aea6ddd42d43eea7890acf72851e44",
            "value": 672
          }
        },
        "21aea6ddd42d43eea7890acf72851e44": {
          "model_module": "@jupyter-widgets/controls",
          "model_module_version": "1.5.0",
          "model_name": "ProgressStyleModel",
          "state": {
            "_model_module": "@jupyter-widgets/controls",
            "_model_module_version": "1.5.0",
            "_model_name": "ProgressStyleModel",
            "_view_count": null,
            "_view_module": "@jupyter-widgets/base",
            "_view_module_version": "1.2.0",
            "_view_name": "StyleView",
            "bar_color": null,
            "description_width": ""
          }
        },
        "2be8e241debb4807bcdb520baf1420d1": {
          "model_module": "@jupyter-widgets/controls",
          "model_module_version": "1.5.0",
          "model_name": "DescriptionStyleModel",
          "state": {
            "_model_module": "@jupyter-widgets/controls",
            "_model_module_version": "1.5.0",
            "_model_name": "DescriptionStyleModel",
            "_view_count": null,
            "_view_module": "@jupyter-widgets/base",
            "_view_module_version": "1.2.0",
            "_view_name": "StyleView",
            "description_width": ""
          }
        },
        "4b1fb1410c9742d5bfc75e3a9019cf49": {
          "model_module": "@jupyter-widgets/controls",
          "model_module_version": "1.5.0",
          "model_name": "HBoxModel",
          "state": {
            "_dom_classes": [],
            "_model_module": "@jupyter-widgets/controls",
            "_model_module_version": "1.5.0",
            "_model_name": "HBoxModel",
            "_view_count": null,
            "_view_module": "@jupyter-widgets/controls",
            "_view_module_version": "1.5.0",
            "_view_name": "HBoxView",
            "box_style": "",
            "children": [
              "IPY_MODEL_6d1a142a7e8f452ebb109b76cccb8c62",
              "IPY_MODEL_1b948fd347a842989409f4973d66a095",
              "IPY_MODEL_d913b239f9184ee29a6e83ce90caa43b"
            ],
            "layout": "IPY_MODEL_90a0204e2a894d7fb25819b56affbcc1"
          }
        },
        "6d1a142a7e8f452ebb109b76cccb8c62": {
          "model_module": "@jupyter-widgets/controls",
          "model_module_version": "1.5.0",
          "model_name": "HTMLModel",
          "state": {
            "_dom_classes": [],
            "_model_module": "@jupyter-widgets/controls",
            "_model_module_version": "1.5.0",
            "_model_name": "HTMLModel",
            "_view_count": null,
            "_view_module": "@jupyter-widgets/controls",
            "_view_module_version": "1.5.0",
            "_view_name": "HTMLView",
            "description": "",
            "description_tooltip": null,
            "layout": "IPY_MODEL_dee2a31c7fbf4be797e705f629d3671a",
            "placeholder": "​",
            "style": "IPY_MODEL_bea24605825348eab85a4b9463f0286e",
            "value": "Generating embeddings: 100%"
          }
        },
        "7004dd9bf9af4ee58279ba344065d345": {
          "model_module": "@jupyter-widgets/base",
          "model_module_version": "1.2.0",
          "model_name": "LayoutModel",
          "state": {
            "_model_module": "@jupyter-widgets/base",
            "_model_module_version": "1.2.0",
            "_model_name": "LayoutModel",
            "_view_count": null,
            "_view_module": "@jupyter-widgets/base",
            "_view_module_version": "1.2.0",
            "_view_name": "LayoutView",
            "align_content": null,
            "align_items": null,
            "align_self": null,
            "border": null,
            "bottom": null,
            "display": null,
            "flex": null,
            "flex_flow": null,
            "grid_area": null,
            "grid_auto_columns": null,
            "grid_auto_flow": null,
            "grid_auto_rows": null,
            "grid_column": null,
            "grid_gap": null,
            "grid_row": null,
            "grid_template_areas": null,
            "grid_template_columns": null,
            "grid_template_rows": null,
            "height": null,
            "justify_content": null,
            "justify_items": null,
            "left": null,
            "margin": null,
            "max_height": null,
            "max_width": null,
            "min_height": null,
            "min_width": null,
            "object_fit": null,
            "object_position": null,
            "order": null,
            "overflow": null,
            "overflow_x": null,
            "overflow_y": null,
            "padding": null,
            "right": null,
            "top": null,
            "visibility": null,
            "width": null
          }
        },
        "71fcd8f3ebd94372ac33aadbb72168e3": {
          "model_module": "@jupyter-widgets/controls",
          "model_module_version": "1.5.0",
          "model_name": "HBoxModel",
          "state": {
            "_dom_classes": [],
            "_model_module": "@jupyter-widgets/controls",
            "_model_module_version": "1.5.0",
            "_model_name": "HBoxModel",
            "_view_count": null,
            "_view_module": "@jupyter-widgets/controls",
            "_view_module_version": "1.5.0",
            "_view_name": "HBoxView",
            "box_style": "",
            "children": [
              "IPY_MODEL_f19d5ccd448a4c0d8aacde455ec6ad97",
              "IPY_MODEL_10e7f18e1d1347b7bc3025084b4ac9c2",
              "IPY_MODEL_fb30c9939c75464994dd5311f21b2690"
            ],
            "layout": "IPY_MODEL_0c634f86f4b74d2f961037971f7315be"
          }
        },
        "8e07134bd9484242b91882bf50c7cbe7": {
          "model_module": "@jupyter-widgets/controls",
          "model_module_version": "1.5.0",
          "model_name": "DescriptionStyleModel",
          "state": {
            "_model_module": "@jupyter-widgets/controls",
            "_model_module_version": "1.5.0",
            "_model_name": "DescriptionStyleModel",
            "_view_count": null,
            "_view_module": "@jupyter-widgets/base",
            "_view_module_version": "1.2.0",
            "_view_name": "StyleView",
            "description_width": ""
          }
        },
        "90a0204e2a894d7fb25819b56affbcc1": {
          "model_module": "@jupyter-widgets/base",
          "model_module_version": "1.2.0",
          "model_name": "LayoutModel",
          "state": {
            "_model_module": "@jupyter-widgets/base",
            "_model_module_version": "1.2.0",
            "_model_name": "LayoutModel",
            "_view_count": null,
            "_view_module": "@jupyter-widgets/base",
            "_view_module_version": "1.2.0",
            "_view_name": "LayoutView",
            "align_content": null,
            "align_items": null,
            "align_self": null,
            "border": null,
            "bottom": null,
            "display": null,
            "flex": null,
            "flex_flow": null,
            "grid_area": null,
            "grid_auto_columns": null,
            "grid_auto_flow": null,
            "grid_auto_rows": null,
            "grid_column": null,
            "grid_gap": null,
            "grid_row": null,
            "grid_template_areas": null,
            "grid_template_columns": null,
            "grid_template_rows": null,
            "height": null,
            "justify_content": null,
            "justify_items": null,
            "left": null,
            "margin": null,
            "max_height": null,
            "max_width": null,
            "min_height": null,
            "min_width": null,
            "object_fit": null,
            "object_position": null,
            "order": null,
            "overflow": null,
            "overflow_x": null,
            "overflow_y": null,
            "padding": null,
            "right": null,
            "top": null,
            "visibility": null,
            "width": null
          }
        },
        "9f1e7ebf604d4d50b22f85446fcaa90a": {
          "model_module": "@jupyter-widgets/base",
          "model_module_version": "1.2.0",
          "model_name": "LayoutModel",
          "state": {
            "_model_module": "@jupyter-widgets/base",
            "_model_module_version": "1.2.0",
            "_model_name": "LayoutModel",
            "_view_count": null,
            "_view_module": "@jupyter-widgets/base",
            "_view_module_version": "1.2.0",
            "_view_name": "LayoutView",
            "align_content": null,
            "align_items": null,
            "align_self": null,
            "border": null,
            "bottom": null,
            "display": null,
            "flex": null,
            "flex_flow": null,
            "grid_area": null,
            "grid_auto_columns": null,
            "grid_auto_flow": null,
            "grid_auto_rows": null,
            "grid_column": null,
            "grid_gap": null,
            "grid_row": null,
            "grid_template_areas": null,
            "grid_template_columns": null,
            "grid_template_rows": null,
            "height": null,
            "justify_content": null,
            "justify_items": null,
            "left": null,
            "margin": null,
            "max_height": null,
            "max_width": null,
            "min_height": null,
            "min_width": null,
            "object_fit": null,
            "object_position": null,
            "order": null,
            "overflow": null,
            "overflow_x": null,
            "overflow_y": null,
            "padding": null,
            "right": null,
            "top": null,
            "visibility": null,
            "width": null
          }
        },
        "bea24605825348eab85a4b9463f0286e": {
          "model_module": "@jupyter-widgets/controls",
          "model_module_version": "1.5.0",
          "model_name": "DescriptionStyleModel",
          "state": {
            "_model_module": "@jupyter-widgets/controls",
            "_model_module_version": "1.5.0",
            "_model_name": "DescriptionStyleModel",
            "_view_count": null,
            "_view_module": "@jupyter-widgets/base",
            "_view_module_version": "1.2.0",
            "_view_name": "StyleView",
            "description_width": ""
          }
        },
        "c2e83c754b3a41c590e9ecbb49c5ab1a": {
          "model_module": "@jupyter-widgets/controls",
          "model_module_version": "1.5.0",
          "model_name": "DescriptionStyleModel",
          "state": {
            "_model_module": "@jupyter-widgets/controls",
            "_model_module_version": "1.5.0",
            "_model_name": "DescriptionStyleModel",
            "_view_count": null,
            "_view_module": "@jupyter-widgets/base",
            "_view_module_version": "1.2.0",
            "_view_name": "StyleView",
            "description_width": ""
          }
        },
        "c84fc7e54f4b4655a0ac75a65412bdf1": {
          "model_module": "@jupyter-widgets/controls",
          "model_module_version": "1.5.0",
          "model_name": "ProgressStyleModel",
          "state": {
            "_model_module": "@jupyter-widgets/controls",
            "_model_module_version": "1.5.0",
            "_model_name": "ProgressStyleModel",
            "_view_count": null,
            "_view_module": "@jupyter-widgets/base",
            "_view_module_version": "1.2.0",
            "_view_name": "StyleView",
            "bar_color": null,
            "description_width": ""
          }
        },
        "d5c820740f0a4e41bbd0ef20b5c2a713": {
          "model_module": "@jupyter-widgets/base",
          "model_module_version": "1.2.0",
          "model_name": "LayoutModel",
          "state": {
            "_model_module": "@jupyter-widgets/base",
            "_model_module_version": "1.2.0",
            "_model_name": "LayoutModel",
            "_view_count": null,
            "_view_module": "@jupyter-widgets/base",
            "_view_module_version": "1.2.0",
            "_view_name": "LayoutView",
            "align_content": null,
            "align_items": null,
            "align_self": null,
            "border": null,
            "bottom": null,
            "display": null,
            "flex": null,
            "flex_flow": null,
            "grid_area": null,
            "grid_auto_columns": null,
            "grid_auto_flow": null,
            "grid_auto_rows": null,
            "grid_column": null,
            "grid_gap": null,
            "grid_row": null,
            "grid_template_areas": null,
            "grid_template_columns": null,
            "grid_template_rows": null,
            "height": null,
            "justify_content": null,
            "justify_items": null,
            "left": null,
            "margin": null,
            "max_height": null,
            "max_width": null,
            "min_height": null,
            "min_width": null,
            "object_fit": null,
            "object_position": null,
            "order": null,
            "overflow": null,
            "overflow_x": null,
            "overflow_y": null,
            "padding": null,
            "right": null,
            "top": null,
            "visibility": null,
            "width": null
          }
        },
        "d913b239f9184ee29a6e83ce90caa43b": {
          "model_module": "@jupyter-widgets/controls",
          "model_module_version": "1.5.0",
          "model_name": "HTMLModel",
          "state": {
            "_dom_classes": [],
            "_model_module": "@jupyter-widgets/controls",
            "_model_module_version": "1.5.0",
            "_model_name": "HTMLModel",
            "_view_count": null,
            "_view_module": "@jupyter-widgets/controls",
            "_view_module_version": "1.5.0",
            "_view_name": "HTMLView",
            "description": "",
            "description_tooltip": null,
            "layout": "IPY_MODEL_d5c820740f0a4e41bbd0ef20b5c2a713",
            "placeholder": "​",
            "style": "IPY_MODEL_2be8e241debb4807bcdb520baf1420d1",
            "value": " 672/672 [01:55&lt;00:00,  6.81it/s]"
          }
        },
        "dee2a31c7fbf4be797e705f629d3671a": {
          "model_module": "@jupyter-widgets/base",
          "model_module_version": "1.2.0",
          "model_name": "LayoutModel",
          "state": {
            "_model_module": "@jupyter-widgets/base",
            "_model_module_version": "1.2.0",
            "_model_name": "LayoutModel",
            "_view_count": null,
            "_view_module": "@jupyter-widgets/base",
            "_view_module_version": "1.2.0",
            "_view_name": "LayoutView",
            "align_content": null,
            "align_items": null,
            "align_self": null,
            "border": null,
            "bottom": null,
            "display": null,
            "flex": null,
            "flex_flow": null,
            "grid_area": null,
            "grid_auto_columns": null,
            "grid_auto_flow": null,
            "grid_auto_rows": null,
            "grid_column": null,
            "grid_gap": null,
            "grid_row": null,
            "grid_template_areas": null,
            "grid_template_columns": null,
            "grid_template_rows": null,
            "height": null,
            "justify_content": null,
            "justify_items": null,
            "left": null,
            "margin": null,
            "max_height": null,
            "max_width": null,
            "min_height": null,
            "min_width": null,
            "object_fit": null,
            "object_position": null,
            "order": null,
            "overflow": null,
            "overflow_x": null,
            "overflow_y": null,
            "padding": null,
            "right": null,
            "top": null,
            "visibility": null,
            "width": null
          }
        },
        "f19d5ccd448a4c0d8aacde455ec6ad97": {
          "model_module": "@jupyter-widgets/controls",
          "model_module_version": "1.5.0",
          "model_name": "HTMLModel",
          "state": {
            "_dom_classes": [],
            "_model_module": "@jupyter-widgets/controls",
            "_model_module_version": "1.5.0",
            "_model_name": "HTMLModel",
            "_view_count": null,
            "_view_module": "@jupyter-widgets/controls",
            "_view_module_version": "1.5.0",
            "_view_name": "HTMLView",
            "description": "",
            "description_tooltip": null,
            "layout": "IPY_MODEL_7004dd9bf9af4ee58279ba344065d345",
            "placeholder": "​",
            "style": "IPY_MODEL_8e07134bd9484242b91882bf50c7cbe7",
            "value": "Parsing nodes: 100%"
          }
        },
        "fb30c9939c75464994dd5311f21b2690": {
          "model_module": "@jupyter-widgets/controls",
          "model_module_version": "1.5.0",
          "model_name": "HTMLModel",
          "state": {
            "_dom_classes": [],
            "_model_module": "@jupyter-widgets/controls",
            "_model_module_version": "1.5.0",
            "_model_name": "HTMLModel",
            "_view_count": null,
            "_view_module": "@jupyter-widgets/controls",
            "_view_module_version": "1.5.0",
            "_view_name": "HTMLView",
            "description": "",
            "description_tooltip": null,
            "layout": "IPY_MODEL_9f1e7ebf604d4d50b22f85446fcaa90a",
            "placeholder": "​",
            "style": "IPY_MODEL_c2e83c754b3a41c590e9ecbb49c5ab1a",
            "value": " 672/672 [00:01&lt;00:00, 526.30it/s]"
          }
        }
      }
    }
  },
  "nbformat": 4,
  "nbformat_minor": 0
}
